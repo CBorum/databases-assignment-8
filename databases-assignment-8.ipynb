{
 "cells": [
  {
   "cell_type": "markdown",
   "metadata": {},
   "source": [
    "1. In the first part you'll be processing the data in the geonames table.\n",
    "  - Find the tuple with the largest population  \n",
    "  - Now calculate the distance from all locations to the tuple above using the <-> function  \n",
    "  - Now calculate the distance from all locations to the tuple above using the haversine distance. The haversine distance has been implemented in PL/PGSQL here: https://gist.github.com/carlzulauf/1724506  \n",
    "  - Plot the latitude and longitude of the largest 1000 populations on a 2-D scatter plot\n",
    "  - You can use IPython-SQL or Pandas to create the plot\n",
    "\n",
    "2. In the second part your job is to work with JSON data from the magic schema. The schema is based on the game Magic: The gathering\n",
    "  - Find all the cards that is made by Rob Alexander\n",
    "  - Find all the cards that have the subtype \"Human\"\n",
    "  - Group all the cards based on the colour. Aggregate them by counting the number of cards per colour.\n",
    "\n",
    "##### Hand-in: a 2-d plot of the latitude and longitudes of the 1000 largest populations from the geonames table and a histogram that counts the number of cards for each colour"
   ]
  },
  {
   "cell_type": "code",
   "execution_count": 4,
   "metadata": {},
   "outputs": [
    {
     "name": "stdout",
     "output_type": "stream",
     "text": [
      "The sql extension is already loaded. To reload it, use:\n",
      "  %reload_ext sql\n"
     ]
    }
   ],
   "source": [
    "%load_ext sql"
   ]
  },
  {
   "cell_type": "code",
   "execution_count": 5,
   "metadata": {},
   "outputs": [
    {
     "data": {
      "text/plain": [
       "'Connected: appdev@appdev'"
      ]
     },
     "execution_count": 5,
     "metadata": {},
     "output_type": "execute_result"
    }
   ],
   "source": [
    "%sql postgresql://appdev@data:5432/appdev"
   ]
  },
  {
   "cell_type": "code",
   "execution_count": 6,
   "metadata": {},
   "outputs": [],
   "source": [
    "import numpy as np\n",
    "import matplotlib.pyplot as plt"
   ]
  },
  {
   "cell_type": "code",
   "execution_count": 7,
   "metadata": {},
   "outputs": [
    {
     "name": "stdout",
     "output_type": "stream",
     "text": [
      "1 rows affected.\n"
     ]
    },
    {
     "data": {
      "text/html": [
       "<table>\n",
       "    <tr>\n",
       "        <th>geonameid</th>\n",
       "        <th>name</th>\n",
       "        <th>longitude</th>\n",
       "        <th>latitude</th>\n",
       "        <th>feature_class</th>\n",
       "        <th>feature_code</th>\n",
       "        <th>country_code</th>\n",
       "        <th>admin1_code</th>\n",
       "        <th>admin2_code</th>\n",
       "        <th>population</th>\n",
       "        <th>elevation</th>\n",
       "        <th>timezone</th>\n",
       "    </tr>\n",
       "    <tr>\n",
       "        <td>305104</td>\n",
       "        <td>Levant</td>\n",
       "        <td>36.0</td>\n",
       "        <td>34.0</td>\n",
       "        <td>L</td>\n",
       "        <td>RGN</td>\n",
       "        <td>None</td>\n",
       "        <td>None</td>\n",
       "        <td>None</td>\n",
       "        <td>44990000</td>\n",
       "        <td>None</td>\n",
       "        <td>Asia/Beirut</td>\n",
       "    </tr>\n",
       "</table>"
      ],
      "text/plain": [
       "[(305104, 'Levant', 36.0, 34.0, 'L', 'RGN', None, None, None, 44990000, None, 'Asia/Beirut')]"
      ]
     },
     "execution_count": 7,
     "metadata": {},
     "output_type": "execute_result"
    }
   ],
   "source": [
    "%%sql\n",
    "SELECT * FROM geonames\n",
    "ORDER BY population DESC\n",
    "LIMIT 1;"
   ]
  },
  {
   "cell_type": "code",
   "execution_count": 8,
   "metadata": {},
   "outputs": [
    {
     "name": "stdout",
     "output_type": "stream",
     "text": [
      "5 rows affected.\n"
     ]
    },
    {
     "data": {
      "text/html": [
       "<table>\n",
       "    <tr>\n",
       "        <th>geonameid</th>\n",
       "        <th>name</th>\n",
       "        <th>distance</th>\n",
       "    </tr>\n",
       "    <tr>\n",
       "        <td>3038871</td>\n",
       "        <td>Obac de la Vall</td>\n",
       "        <td>35.5187260391022</td>\n",
       "    </tr>\n",
       "    <tr>\n",
       "        <td>3038956</td>\n",
       "        <td>Canal del Teixó</td>\n",
       "        <td>35.5403912827645</td>\n",
       "    </tr>\n",
       "    <tr>\n",
       "        <td>3038989</td>\n",
       "        <td>Solana del Soriguer</td>\n",
       "        <td>35.4976906065648</td>\n",
       "    </tr>\n",
       "    <tr>\n",
       "        <td>3039152</td>\n",
       "        <td>Bosc de Sant Romà</td>\n",
       "        <td>35.5211340049413</td>\n",
       "    </tr>\n",
       "    <tr>\n",
       "        <td>3039170</td>\n",
       "        <td>Sant Esteve</td>\n",
       "        <td>35.5230848613757</td>\n",
       "    </tr>\n",
       "</table>"
      ],
      "text/plain": [
       "[(3038871, 'Obac de la Vall', 35.5187260391022),\n",
       " (3038956, 'Canal del Teixó', 35.5403912827645),\n",
       " (3038989, 'Solana del Soriguer', 35.4976906065648),\n",
       " (3039152, 'Bosc de Sant Romà', 35.5211340049413),\n",
       " (3039170, 'Sant Esteve', 35.5230848613757)]"
      ]
     },
     "execution_count": 8,
     "metadata": {},
     "output_type": "execute_result"
    }
   ],
   "source": [
    "%%sql\n",
    "SELECT geonameid, name, point(longitude,latitude) <-> point(36.0,34.0) AS distance\n",
    "FROM geonames\n",
    "LIMIT 5;"
   ]
  },
  {
   "cell_type": "code",
   "execution_count": 9,
   "metadata": {},
   "outputs": [
    {
     "name": "stdout",
     "output_type": "stream",
     "text": [
      "Done.\n"
     ]
    },
    {
     "data": {
      "text/plain": [
       "[]"
      ]
     },
     "execution_count": 9,
     "metadata": {},
     "output_type": "execute_result"
    }
   ],
   "source": [
    "%%sql\n",
    "CREATE OR REPLACE FUNCTION public.geodistance(alat double precision, alng double precision, blat double precision, blng double precision)\n",
    "  RETURNS double precision AS\n",
    "$BODY$\n",
    "SELECT asin(\n",
    "  sqrt(\n",
    "    sin(radians($3-$1)/2)^2 +\n",
    "    sin(radians($4-$2)/2)^2 *\n",
    "    cos(radians($1)) *\n",
    "    cos(radians($3))\n",
    "  )\n",
    ") * 7926.3352 AS distance;\n",
    "$BODY$\n",
    "  LANGUAGE sql IMMUTABLE\n",
    "  COST 100;"
   ]
  },
  {
   "cell_type": "code",
   "execution_count": 10,
   "metadata": {},
   "outputs": [
    {
     "name": "stdout",
     "output_type": "stream",
     "text": [
      "5 rows affected.\n"
     ]
    },
    {
     "data": {
      "text/html": [
       "<table>\n",
       "    <tr>\n",
       "        <th>geonameid</th>\n",
       "        <th>name</th>\n",
       "        <th>distance</th>\n",
       "    </tr>\n",
       "    <tr>\n",
       "        <td>3038871</td>\n",
       "        <td>Obac de la Vall</td>\n",
       "        <td>2447.02064247823</td>\n",
       "    </tr>\n",
       "    <tr>\n",
       "        <td>3038956</td>\n",
       "        <td>Canal del Teixó</td>\n",
       "        <td>2448.31370315787</td>\n",
       "    </tr>\n",
       "    <tr>\n",
       "        <td>3038989</td>\n",
       "        <td>Solana del Soriguer</td>\n",
       "        <td>2445.30508219456</td>\n",
       "    </tr>\n",
       "    <tr>\n",
       "        <td>3039152</td>\n",
       "        <td>Bosc de Sant Romà</td>\n",
       "        <td>2447.21932099428</td>\n",
       "    </tr>\n",
       "    <tr>\n",
       "        <td>3039170</td>\n",
       "        <td>Sant Esteve</td>\n",
       "        <td>2447.38555627568</td>\n",
       "    </tr>\n",
       "</table>"
      ],
      "text/plain": [
       "[(3038871, 'Obac de la Vall', 2447.02064247823),\n",
       " (3038956, 'Canal del Teixó', 2448.31370315787),\n",
       " (3038989, 'Solana del Soriguer', 2445.30508219456),\n",
       " (3039152, 'Bosc de Sant Romà', 2447.21932099428),\n",
       " (3039170, 'Sant Esteve', 2447.38555627568)]"
      ]
     },
     "execution_count": 10,
     "metadata": {},
     "output_type": "execute_result"
    }
   ],
   "source": [
    "%%sql\n",
    "SELECT geonameid, name, geodistance(longitude,latitude,36.0,34.0) AS distance\n",
    "FROM geonames\n",
    "LIMIT 5;"
   ]
  },
  {
   "cell_type": "code",
   "execution_count": 26,
   "metadata": {},
   "outputs": [
    {
     "name": "stdout",
     "output_type": "stream",
     "text": [
      "1000 rows affected.\n"
     ]
    },
    {
     "data": {
      "image/png": "[encoded data removed]",
      "text/plain": [
       "<matplotlib.figure.Figure at 0x7fcc5f704ac8>"
      ]
     },
     "metadata": {},
     "output_type": "display_data"
    }
   ],
   "source": [
    "result = %sql SELECT longitude,latitude FROM geonames ORDER BY population DESC LIMIT 1000;\n",
    "data = np.array(result)\n",
    "x, y = data.T\n",
    "\n",
    "plt.scatter(x,y)\n",
    "plt.show()"
   ]
  },
  {
   "cell_type": "code",
   "execution_count": 12,
   "metadata": {},
   "outputs": [
    {
     "name": "stdout",
     "output_type": "stream",
     "text": [
      "1 rows affected.\n"
     ]
    },
    {
     "data": {
      "text/html": [
       "<table>\n",
       "    <tr>\n",
       "        <th>set</th>\n",
       "        <th>data</th>\n",
       "    </tr>\n",
       "    <tr>\n",
       "        <td>10E</td>\n",
       "        <td>{&#x27;id&#x27;: &#x27;ab1ab474019e4e76c66e2b524d354cb7c3212616&#x27;, &#x27;cmc&#x27;: 7, &#x27;name&#x27;: &quot;Ancestor&#x27;s Chosen&quot;, &#x27;text&#x27;: &quot;First strike (This creature deals combat damage before creatures without first strike.)\\nWhen Ancestor&#x27;s Chosen enters the battlefield, you gain 1 life for each card in your graveyard.&quot;, &#x27;type&#x27;: &#x27;Creature — Human Cleric&#x27;, &#x27;power&#x27;: &#x27;4&#x27;, &#x27;types&#x27;: [&#x27;Creature&#x27;], &#x27;artist&#x27;: &#x27;Pete Venters&#x27;, &#x27;colors&#x27;: [&#x27;White&#x27;], &#x27;flavor&#x27;: &#x27;&quot;The will of all, by my hand done.&quot;&#x27;, &#x27;layout&#x27;: &#x27;normal&#x27;, &#x27;number&#x27;: &#x27;1&#x27;, &#x27;rarity&#x27;: &#x27;Uncommon&#x27;, &#x27;manaCost&#x27;: &#x27;{5}{W}{W}&#x27;, &#x27;subtypes&#x27;: [&#x27;Human&#x27;, &#x27;Cleric&#x27;], &#x27;imageName&#x27;: &quot;ancestor&#x27;s chosen&quot;, &#x27;mciNumber&#x27;: &#x27;1&#x27;, &#x27;toughness&#x27;: &#x27;4&#x27;, &#x27;multiverseid&#x27;: 130550, &#x27;colorIdentity&#x27;: [&#x27;W&#x27;]}</td>\n",
       "    </tr>\n",
       "</table>"
      ],
      "text/plain": [
       "[('10E', {'id': 'ab1ab474019e4e76c66e2b524d354cb7c3212616', 'cmc': 7, 'name': \"Ancestor's Chosen\", 'text': \"First strike (This creature deals combat damage bef ... (386 characters truncated) ... 'subtypes': ['Human', 'Cleric'], 'imageName': \"ancestor's chosen\", 'mciNumber': '1', 'toughness': '4', 'multiverseid': 130550, 'colorIdentity': ['W']})]"
      ]
     },
     "execution_count": 12,
     "metadata": {},
     "output_type": "execute_result"
    }
   ],
   "source": [
    "%%sql\n",
    "SELECT * FROM cards\n",
    "LIMIT 1;"
   ]
  },
  {
   "cell_type": "code",
   "execution_count": 13,
   "metadata": {},
   "outputs": [
    {
     "name": "stdout",
     "output_type": "stream",
     "text": [
      "5 rows affected.\n"
     ]
    },
    {
     "data": {
      "text/html": [
       "<table>\n",
       "    <tr>\n",
       "        <th>set</th>\n",
       "        <th>data</th>\n",
       "    </tr>\n",
       "    <tr>\n",
       "        <td>10E</td>\n",
       "        <td>{&#x27;id&#x27;: &#x27;4a7bf234af44e07d9a159d4d89e96ce320919917&#x27;, &#x27;cmc&#x27;: 6, &#x27;name&#x27;: &#x27;Beacon of Immortality&#x27;, &#x27;text&#x27;: &quot;Double target player&#x27;s life total. Shuffle Beacon of Immortality into its owner&#x27;s library.&quot;, &#x27;type&#x27;: &#x27;Instant&#x27;, &#x27;types&#x27;: [&#x27;Instant&#x27;], &#x27;artist&#x27;: &#x27;Rob Alexander&#x27;, &#x27;colors&#x27;: [&#x27;White&#x27;], &#x27;flavor&#x27;: &#x27;The cave floods with light. A thousand rays shine forth and meld into one.&#x27;, &#x27;layout&#x27;: &#x27;normal&#x27;, &#x27;number&#x27;: &#x27;10&#x27;, &#x27;rarity&#x27;: &#x27;Rare&#x27;, &#x27;manaCost&#x27;: &#x27;{5}{W}&#x27;, &#x27;imageName&#x27;: &#x27;beacon of immortality&#x27;, &#x27;mciNumber&#x27;: &#x27;10&#x27;, &#x27;multiverseid&#x27;: 130553, &#x27;colorIdentity&#x27;: [&#x27;W&#x27;]}</td>\n",
       "    </tr>\n",
       "    <tr>\n",
       "        <td>10E</td>\n",
       "        <td>{&#x27;id&#x27;: &#x27;9cea331c080c3bbc7987c6560f65e39e9d1ed34f&#x27;, &#x27;cmc&#x27;: 5, &#x27;name&#x27;: &#x27;Kavu Climber&#x27;, &#x27;text&#x27;: &#x27;When Kavu Climber enters the battlefield, draw a card.&#x27;, &#x27;type&#x27;: &#x27;Creature — Kavu&#x27;, &#x27;power&#x27;: &#x27;3&#x27;, &#x27;types&#x27;: [&#x27;Creature&#x27;], &#x27;artist&#x27;: &#x27;Rob Alexander&#x27;, &#x27;colors&#x27;: [&#x27;Green&#x27;], &#x27;flavor&#x27;: &#x27;&quot;There was a crack of branches, a rustle of leaves, then a tremendous roar. Our party had no chance as death descended from above.&quot;\\n—Taseen, elvish bard&#x27;, &#x27;layout&#x27;: &#x27;normal&#x27;, &#x27;number&#x27;: &#x27;273&#x27;, &#x27;rarity&#x27;: &#x27;Common&#x27;, &#x27;manaCost&#x27;: &#x27;{3}{G}{G}&#x27;, &#x27;subtypes&#x27;: [&#x27;Kavu&#x27;], &#x27;imageName&#x27;: &#x27;kavu climber&#x27;, &#x27;mciNumber&#x27;: &#x27;273&#x27;, &#x27;toughness&#x27;: &#x27;3&#x27;, &#x27;multiverseid&#x27;: 129511, &#x27;colorIdentity&#x27;: [&#x27;G&#x27;]}</td>\n",
       "    </tr>\n",
       "    <tr>\n",
       "        <td>10E</td>\n",
       "        <td>{&#x27;id&#x27;: &#x27;28cc7c79cca8939fd9661f7abfc6ca453715b75e&#x27;, &#x27;cmc&#x27;: 0, &#x27;name&#x27;: &#x27;Llanowar Wastes&#x27;, &#x27;text&#x27;: &#x27;{T}: Add {C} to your mana pool.\\n{T}: Add {B} or {G} to your mana pool. Llanowar Wastes deals 1 damage to you.&#x27;, &#x27;type&#x27;: &#x27;Land&#x27;, &#x27;types&#x27;: [&#x27;Land&#x27;], &#x27;artist&#x27;: &#x27;Rob Alexander&#x27;, &#x27;layout&#x27;: &#x27;normal&#x27;, &#x27;number&#x27;: &#x27;355&#x27;, &#x27;rarity&#x27;: &#x27;Rare&#x27;, &#x27;imageName&#x27;: &#x27;llanowar wastes&#x27;, &#x27;mciNumber&#x27;: &#x27;355&#x27;, &#x27;multiverseid&#x27;: 129627, &#x27;colorIdentity&#x27;: [&#x27;B&#x27;, &#x27;G&#x27;]}</td>\n",
       "    </tr>\n",
       "    <tr>\n",
       "        <td>10E</td>\n",
       "        <td>{&#x27;id&#x27;: &#x27;7a90b7ba6197f8774ed99ecf75ac9abb3e0c0f20&#x27;, &#x27;cmc&#x27;: 0, &#x27;name&#x27;: &#x27;Shivan Reef&#x27;, &#x27;text&#x27;: &#x27;{T}: Add {C} to your mana pool.\\n{T}: Add {U} or {R} to your mana pool. Shivan Reef deals 1 damage to you.&#x27;, &#x27;type&#x27;: &#x27;Land&#x27;, &#x27;types&#x27;: [&#x27;Land&#x27;], &#x27;artist&#x27;: &#x27;Rob Alexander&#x27;, &#x27;layout&#x27;: &#x27;normal&#x27;, &#x27;number&#x27;: &#x27;357&#x27;, &#x27;rarity&#x27;: &#x27;Rare&#x27;, &#x27;imageName&#x27;: &#x27;shivan reef&#x27;, &#x27;mciNumber&#x27;: &#x27;357&#x27;, &#x27;multiverseid&#x27;: 129731, &#x27;colorIdentity&#x27;: [&#x27;U&#x27;, &#x27;R&#x27;]}</td>\n",
       "    </tr>\n",
       "    <tr>\n",
       "        <td>10E</td>\n",
       "        <td>{&#x27;id&#x27;: &#x27;8d1035f151615c949d0645b70fe01d8ab4a3f796&#x27;, &#x27;cmc&#x27;: 0, &#x27;name&#x27;: &#x27;Sulfurous Springs&#x27;, &#x27;text&#x27;: &#x27;{T}: Add {C} to your mana pool.\\n{T}: Add {B} or {R} to your mana pool. Sulfurous Springs deals 1 damage to you.&#x27;, &#x27;type&#x27;: &#x27;Land&#x27;, &#x27;types&#x27;: [&#x27;Land&#x27;], &#x27;artist&#x27;: &#x27;Rob Alexander&#x27;, &#x27;layout&#x27;: &#x27;normal&#x27;, &#x27;number&#x27;: &#x27;359&#x27;, &#x27;rarity&#x27;: &#x27;Rare&#x27;, &#x27;imageName&#x27;: &#x27;sulfurous springs&#x27;, &#x27;mciNumber&#x27;: &#x27;359&#x27;, &#x27;multiverseid&#x27;: 129751, &#x27;colorIdentity&#x27;: [&#x27;B&#x27;, &#x27;R&#x27;]}</td>\n",
       "    </tr>\n",
       "</table>"
      ],
      "text/plain": [
       "[('10E', {'id': '4a7bf234af44e07d9a159d4d89e96ce320919917', 'cmc': 6, 'name': 'Beacon of Immortality', 'text': \"Double target player's life total. Shuffle Beac ... (253 characters truncated) ... '10', 'rarity': 'Rare', 'manaCost': '{5}{W}', 'imageName': 'beacon of immortality', 'mciNumber': '10', 'multiverseid': 130553, 'colorIdentity': ['W']}),\n",
       " ('10E', {'id': '9cea331c080c3bbc7987c6560f65e39e9d1ed34f', 'cmc': 5, 'name': 'Kavu Climber', 'text': 'When Kavu Climber enters the battlefield, draw a card.', ... (348 characters truncated) ...  '{3}{G}{G}', 'subtypes': ['Kavu'], 'imageName': 'kavu climber', 'mciNumber': '273', 'toughness': '3', 'multiverseid': 129511, 'colorIdentity': ['G']}),\n",
       " ('10E', {'id': '28cc7c79cca8939fd9661f7abfc6ca453715b75e', 'cmc': 0, 'name': 'Llanowar Wastes', 'text': '{T}: Add {C} to your mana pool.\\n{T}: Add {B} or {G}  ... (131 characters truncated) ...  'normal', 'number': '355', 'rarity': 'Rare', 'imageName': 'llanowar wastes', 'mciNumber': '355', 'multiverseid': 129627, 'colorIdentity': ['B', 'G']}),\n",
       " ('10E', {'id': '7a90b7ba6197f8774ed99ecf75ac9abb3e0c0f20', 'cmc': 0, 'name': 'Shivan Reef', 'text': '{T}: Add {C} to your mana pool.\\n{T}: Add {U} or {R} to y ... (119 characters truncated) ... ut': 'normal', 'number': '357', 'rarity': 'Rare', 'imageName': 'shivan reef', 'mciNumber': '357', 'multiverseid': 129731, 'colorIdentity': ['U', 'R']}),\n",
       " ('10E', {'id': '8d1035f151615c949d0645b70fe01d8ab4a3f796', 'cmc': 0, 'name': 'Sulfurous Springs', 'text': '{T}: Add {C} to your mana pool.\\n{T}: Add {B} or {R ... (137 characters truncated) ... normal', 'number': '359', 'rarity': 'Rare', 'imageName': 'sulfurous springs', 'mciNumber': '359', 'multiverseid': 129751, 'colorIdentity': ['B', 'R']})]"
      ]
     },
     "execution_count": 13,
     "metadata": {},
     "output_type": "execute_result"
    }
   ],
   "source": [
    "%%sql\n",
    "SELECT *\n",
    "FROM cards\n",
    "WHERE data @> '{\"artist\":\"Rob Alexander\"}'\n",
    "LIMIT 5;"
   ]
  },
  {
   "cell_type": "code",
   "execution_count": 14,
   "metadata": {},
   "outputs": [
    {
     "name": "stdout",
     "output_type": "stream",
     "text": [
      "5 rows affected.\n"
     ]
    },
    {
     "data": {
      "text/html": [
       "<table>\n",
       "    <tr>\n",
       "        <th>set</th>\n",
       "        <th>data</th>\n",
       "    </tr>\n",
       "    <tr>\n",
       "        <td>10E</td>\n",
       "        <td>{&#x27;id&#x27;: &#x27;ab1ab474019e4e76c66e2b524d354cb7c3212616&#x27;, &#x27;cmc&#x27;: 7, &#x27;name&#x27;: &quot;Ancestor&#x27;s Chosen&quot;, &#x27;text&#x27;: &quot;First strike (This creature deals combat damage before creatures without first strike.)\\nWhen Ancestor&#x27;s Chosen enters the battlefield, you gain 1 life for each card in your graveyard.&quot;, &#x27;type&#x27;: &#x27;Creature — Human Cleric&#x27;, &#x27;power&#x27;: &#x27;4&#x27;, &#x27;types&#x27;: [&#x27;Creature&#x27;], &#x27;artist&#x27;: &#x27;Pete Venters&#x27;, &#x27;colors&#x27;: [&#x27;White&#x27;], &#x27;flavor&#x27;: &#x27;&quot;The will of all, by my hand done.&quot;&#x27;, &#x27;layout&#x27;: &#x27;normal&#x27;, &#x27;number&#x27;: &#x27;1&#x27;, &#x27;rarity&#x27;: &#x27;Uncommon&#x27;, &#x27;manaCost&#x27;: &#x27;{5}{W}{W}&#x27;, &#x27;subtypes&#x27;: [&#x27;Human&#x27;, &#x27;Cleric&#x27;], &#x27;imageName&#x27;: &quot;ancestor&#x27;s chosen&quot;, &#x27;mciNumber&#x27;: &#x27;1&#x27;, &#x27;toughness&#x27;: &#x27;4&#x27;, &#x27;multiverseid&#x27;: 130550, &#x27;colorIdentity&#x27;: [&#x27;W&#x27;]}</td>\n",
       "    </tr>\n",
       "    <tr>\n",
       "        <td>10E</td>\n",
       "        <td>{&#x27;id&#x27;: &#x27;d3488c0a916bd922856473155a8b49ec23fc2217&#x27;, &#x27;cmc&#x27;: 4, &#x27;name&#x27;: &#x27;Ballista Squad&#x27;, &#x27;text&#x27;: &#x27;{X}{W}, {T}: Ballista Squad deals X damage to target attacking or blocking creature.&#x27;, &#x27;type&#x27;: &#x27;Creature — Human Rebel&#x27;, &#x27;power&#x27;: &#x27;2&#x27;, &#x27;types&#x27;: [&#x27;Creature&#x27;], &#x27;artist&#x27;: &#x27;Matthew D. Wilson&#x27;, &#x27;colors&#x27;: [&#x27;White&#x27;], &#x27;flavor&#x27;: &#x27;The perfect antidote for a tightly packed formation.&#x27;, &#x27;layout&#x27;: &#x27;normal&#x27;, &#x27;number&#x27;: &#x27;8&#x27;, &#x27;rarity&#x27;: &#x27;Uncommon&#x27;, &#x27;manaCost&#x27;: &#x27;{3}{W}&#x27;, &#x27;subtypes&#x27;: [&#x27;Human&#x27;, &#x27;Rebel&#x27;], &#x27;imageName&#x27;: &#x27;ballista squad&#x27;, &#x27;mciNumber&#x27;: &#x27;8&#x27;, &#x27;toughness&#x27;: &#x27;2&#x27;, &#x27;multiverseid&#x27;: 129477, &#x27;colorIdentity&#x27;: [&#x27;W&#x27;]}</td>\n",
       "    </tr>\n",
       "    <tr>\n",
       "        <td>10E</td>\n",
       "        <td>{&#x27;id&#x27;: &#x27;29c46fca29e5de01dba3bbf05393325bc9132735&#x27;, &#x27;cmc&#x27;: 3, &#x27;name&#x27;: &#x27;Benalish Knight&#x27;, &#x27;text&#x27;: &#x27;Flash (You may cast this spell any time you could cast an instant.)\\nFirst strike (This creature deals combat damage before creatures without first strike.)&#x27;, &#x27;type&#x27;: &#x27;Creature — Human Knight&#x27;, &#x27;power&#x27;: &#x27;2&#x27;, &#x27;types&#x27;: [&#x27;Creature&#x27;], &#x27;artist&#x27;: &#x27;Zoltan Boros &amp; Gabor Szikszai&#x27;, &#x27;colors&#x27;: [&#x27;White&#x27;], &#x27;flavor&#x27;: &#x27;&quot;We called them \\&#x27;armored lightning.\\&#x27;&quot;\\n—Gerrard of the Weatherlight&#x27;, &#x27;layout&#x27;: &#x27;normal&#x27;, &#x27;number&#x27;: &#x27;11&#x27;, &#x27;rarity&#x27;: &#x27;Common&#x27;, &#x27;manaCost&#x27;: &#x27;{2}{W}&#x27;, &#x27;subtypes&#x27;: [&#x27;Human&#x27;, &#x27;Knight&#x27;], &#x27;imageName&#x27;: &#x27;benalish knight&#x27;, &#x27;mciNumber&#x27;: &#x27;11&#x27;, &#x27;toughness&#x27;: &#x27;2&#x27;, &#x27;multiverseid&#x27;: 136279, &#x27;colorIdentity&#x27;: [&#x27;W&#x27;]}</td>\n",
       "    </tr>\n",
       "    <tr>\n",
       "        <td>10E</td>\n",
       "        <td>{&#x27;id&#x27;: &#x27;e8b8dea65daf4e9070cce5de62bdbea0bf36d47c&#x27;, &#x27;cmc&#x27;: 4, &#x27;name&#x27;: &#x27;Cho-Manno, Revolutionary&#x27;, &#x27;text&#x27;: &#x27;Prevent all damage that would be dealt to Cho-Manno, Revolutionary.&#x27;, &#x27;type&#x27;: &#x27;Legendary Creature — Human Rebel&#x27;, &#x27;power&#x27;: &#x27;2&#x27;, &#x27;types&#x27;: [&#x27;Creature&#x27;], &#x27;artist&#x27;: &#x27;Steven Belledin&#x27;, &#x27;colors&#x27;: [&#x27;White&#x27;], &#x27;flavor&#x27;: &#x27;&quot;Mercadia\\&#x27;s masks can no longer hide the truth. Our day has come at last.&quot;&#x27;, &#x27;layout&#x27;: &#x27;normal&#x27;, &#x27;number&#x27;: &#x27;12&#x27;, &#x27;rarity&#x27;: &#x27;Rare&#x27;, &#x27;manaCost&#x27;: &#x27;{2}{W}{W}&#x27;, &#x27;subtypes&#x27;: [&#x27;Human&#x27;, &#x27;Rebel&#x27;], &#x27;imageName&#x27;: &#x27;cho-manno, revolutionary&#x27;, &#x27;mciNumber&#x27;: &#x27;12&#x27;, &#x27;toughness&#x27;: &#x27;2&#x27;, &#x27;supertypes&#x27;: [&#x27;Legendary&#x27;], &#x27;multiverseid&#x27;: 130554, &#x27;colorIdentity&#x27;: [&#x27;W&#x27;]}</td>\n",
       "    </tr>\n",
       "    <tr>\n",
       "        <td>10E</td>\n",
       "        <td>{&#x27;id&#x27;: &#x27;80a6b907fc380ed97615e8abc0fe6071c4ceef67&#x27;, &#x27;cmc&#x27;: 3, &#x27;name&#x27;: &#x27;Field Marshal&#x27;, &#x27;text&#x27;: &#x27;Other Soldier creatures get +1/+1 and have first strike. (They deal combat damage before creatures without first strike.)&#x27;, &#x27;type&#x27;: &#x27;Creature — Human Soldier&#x27;, &#x27;power&#x27;: &#x27;2&#x27;, &#x27;types&#x27;: [&#x27;Creature&#x27;], &#x27;artist&#x27;: &#x27;Stephen Tappin&#x27;, &#x27;colors&#x27;: [&#x27;White&#x27;], &#x27;flavor&#x27;: &#x27;He is the only one who sees the patterns in the overlapping maps and conflicting reports.&#x27;, &#x27;layout&#x27;: &#x27;normal&#x27;, &#x27;number&#x27;: &#x27;15&#x27;, &#x27;rarity&#x27;: &#x27;Rare&#x27;, &#x27;manaCost&#x27;: &#x27;{1}{W}{W}&#x27;, &#x27;subtypes&#x27;: [&#x27;Human&#x27;, &#x27;Soldier&#x27;], &#x27;imageName&#x27;: &#x27;field marshal&#x27;, &#x27;mciNumber&#x27;: &#x27;15&#x27;, &#x27;toughness&#x27;: &#x27;2&#x27;, &#x27;multiverseid&#x27;: 135258, &#x27;colorIdentity&#x27;: [&#x27;W&#x27;]}</td>\n",
       "    </tr>\n",
       "</table>"
      ],
      "text/plain": [
       "[('10E', {'id': 'ab1ab474019e4e76c66e2b524d354cb7c3212616', 'cmc': 7, 'name': \"Ancestor's Chosen\", 'text': \"First strike (This creature deals combat damage bef ... (386 characters truncated) ... 'subtypes': ['Human', 'Cleric'], 'imageName': \"ancestor's chosen\", 'mciNumber': '1', 'toughness': '4', 'multiverseid': 130550, 'colorIdentity': ['W']}),\n",
       " ('10E', {'id': 'd3488c0a916bd922856473155a8b49ec23fc2217', 'cmc': 4, 'name': 'Ballista Squad', 'text': '{X}{W}, {T}: Ballista Squad deals X damage to target a ... (297 characters truncated) ... }', 'subtypes': ['Human', 'Rebel'], 'imageName': 'ballista squad', 'mciNumber': '8', 'toughness': '2', 'multiverseid': 129477, 'colorIdentity': ['W']}),\n",
       " ('10E', {'id': '29c46fca29e5de01dba3bbf05393325bc9132735', 'cmc': 3, 'name': 'Benalish Knight', 'text': 'Flash (You may cast this spell any time you could cas ... (402 characters truncated) ...  'subtypes': ['Human', 'Knight'], 'imageName': 'benalish knight', 'mciNumber': '11', 'toughness': '2', 'multiverseid': 136279, 'colorIdentity': ['W']}),\n",
       " ('10E', {'id': 'e8b8dea65daf4e9070cce5de62bdbea0bf36d47c', 'cmc': 4, 'name': 'Cho-Manno, Revolutionary', 'text': 'Prevent all damage that would be dealt to Ch ... (361 characters truncated) ... geName': 'cho-manno, revolutionary', 'mciNumber': '12', 'toughness': '2', 'supertypes': ['Legendary'], 'multiverseid': 130554, 'colorIdentity': ['W']}),\n",
       " ('10E', {'id': '80a6b907fc380ed97615e8abc0fe6071c4ceef67', 'cmc': 3, 'name': 'Field Marshal', 'text': 'Other Soldier creatures get +1/+1 and have first strike ... (371 characters truncated) ... , 'subtypes': ['Human', 'Soldier'], 'imageName': 'field marshal', 'mciNumber': '15', 'toughness': '2', 'multiverseid': 135258, 'colorIdentity': ['W']})]"
      ]
     },
     "execution_count": 14,
     "metadata": {},
     "output_type": "execute_result"
    }
   ],
   "source": [
    "%%sql\n",
    "SELECT *\n",
    "FROM cards\n",
    "WHERE data -> 'subtypes' ?| array['Human']\n",
    "LIMIT 5;"
   ]
  },
  {
   "cell_type": "code",
   "execution_count": 15,
   "metadata": {},
   "outputs": [],
   "source": [
    "%matplotlib inline"
   ]
  },
  {
   "cell_type": "code",
   "execution_count": 16,
   "metadata": {},
   "outputs": [
    {
     "name": "stdout",
     "output_type": "stream",
     "text": [
      "5 rows affected.\n"
     ]
    },
    {
     "data": {
      "text/html": [
       "<table>\n",
       "    <tr>\n",
       "        <th>colors</th>\n",
       "        <th>count</th>\n",
       "    </tr>\n",
       "    <tr>\n",
       "        <td>Blue</td>\n",
       "        <td>5836</td>\n",
       "    </tr>\n",
       "    <tr>\n",
       "        <td>White</td>\n",
       "        <td>5920</td>\n",
       "    </tr>\n",
       "    <tr>\n",
       "        <td>Red</td>\n",
       "        <td>6054</td>\n",
       "    </tr>\n",
       "    <tr>\n",
       "        <td>Black</td>\n",
       "        <td>6067</td>\n",
       "    </tr>\n",
       "    <tr>\n",
       "        <td>Green</td>\n",
       "        <td>6162</td>\n",
       "    </tr>\n",
       "</table>"
      ],
      "text/plain": [
       "[('Blue', 5836),\n",
       " ('White', 5920),\n",
       " ('Red', 6054),\n",
       " ('Black', 6067),\n",
       " ('Green', 6162)]"
      ]
     },
     "execution_count": 16,
     "metadata": {},
     "output_type": "execute_result"
    }
   ],
   "source": [
    "%%sql\n",
    "SELECT jsonb_array_elements_text(data -> 'colors') AS colors, count(*)\n",
    "FROM cards\n",
    "GROUP BY jsonb_array_elements_text(data -> 'colors')\n",
    "ORDER BY count(*) ASC\n",
    "LIMIT 25;"
   ]
  },
  {
   "cell_type": "code",
   "execution_count": 17,
   "metadata": {},
   "outputs": [
    {
     "name": "stdout",
     "output_type": "stream",
     "text": [
      "5 rows affected.\n"
     ]
    },
    {
     "data": {
      "image/png": "[encoded data removed]",
      "text/plain": [
       "<matplotlib.figure.Figure at 0x7fcc62711160>"
      ]
     },
     "metadata": {},
     "output_type": "display_data"
    }
   ],
   "source": [
    "result = %sql SELECT jsonb_array_elements_text(data -> 'colors') AS colors, count(*) FROM cards GROUP BY jsonb_array_elements_text(data -> 'colors') ORDER BY count(*) ASC;\n",
    "data = np.array(result)\n",
    "colors, values = data.T\n",
    "values = list(map(int, values))\n",
    "colors = list(map(str, colors))\n",
    "\n",
    "fig = plt.figure()\n",
    "ax = fig.add_subplot(111)\n",
    "\n",
    "x_coordinates = np.arange(len(colors))\n",
    "ax.bar(x_coordinates, values, align='center')\n",
    "\n",
    "ax.xaxis.set_major_locator(plt.FixedLocator(x_coordinates))\n",
    "ax.xaxis.set_major_formatter(plt.FixedFormatter(colors))\n",
    "\n",
    "plt.show()"
   ]
  }
 ],
 "metadata": {
  "kernelspec": {
   "display_name": "Python 3",
   "language": "python",
   "name": "python3"
  },
  "language_info": {
   "codemirror_mode": {
    "name": "ipython",
    "version": 3
   },
   "file_extension": ".py",
   "mimetype": "text/x-python",
   "name": "python",
   "nbconvert_exporter": "python",
   "pygments_lexer": "ipython3",
   "version": "3.6.3"
  }
 },
 "nbformat": 4,
 "nbformat_minor": 2
}
